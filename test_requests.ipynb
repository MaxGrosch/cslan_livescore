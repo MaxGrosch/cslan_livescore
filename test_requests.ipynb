{
 "cells": [
  {
   "cell_type": "code",
   "execution_count": 1,
   "metadata": {},
   "outputs": [],
   "source": [
    "import requests"
   ]
  },
  {
   "cell_type": "code",
   "execution_count": 22,
   "metadata": {},
   "outputs": [
    {
     "data": {
      "text/plain": [
       "'200 - Successfully received data'"
      ]
     },
     "execution_count": 22,
     "metadata": {},
     "output_type": "execute_result"
    }
   ],
   "source": [
    "# Warmup\n",
    "req = requests.post(\n",
    "    url=\"http://127.0.0.1:80/receive_gsi\",\n",
    "    json={'provider': {'name': 'Counter-Strike: Global Offensive', 'appid': 730, 'version': 13967, 'steamid': '76561197991237347', 'timestamp': 1699290484}, 'map': {'mode': 'competitive', 'name': 'de_overpass', 'phase': 'warmup', 'round': 0, 'team_ct': {'score': 0, 'consecutive_round_losses': 0, 'timeouts_remaining': 1, 'matches_won_this_series': 0}, 'team_t': {'score': 0, 'consecutive_round_losses': 0, 'timeouts_remaining': 1, 'matches_won_this_series': 0}, 'num_matches_to_win_series': 0}}\n",
    ")\n",
    "f\"{req.status_code} - {req.text}\""
   ]
  },
  {
   "cell_type": "code",
   "execution_count": 28,
   "metadata": {},
   "outputs": [
    {
     "data": {
      "text/plain": [
       "'200 - Successfully received data'"
      ]
     },
     "execution_count": 28,
     "metadata": {},
     "output_type": "execute_result"
    }
   ],
   "source": [
    "# Live, previously warmup\n",
    "req = requests.post(\n",
    "    url=\"http://127.0.0.1:80/receive_gsi\",\n",
    "    json={'provider': {'name': 'Counter-Strike: Global Offensive', 'appid': 730, 'version': 13967, 'steamid': '76561197991237347', 'timestamp': 1699290487}, 'map': {'mode': 'competitive', 'name': 'de_overpass', 'phase': 'live', 'round': 0, 'team_ct': {'score': 0, 'consecutive_round_losses': 1, 'timeouts_remaining': 1, 'matches_won_this_series': 0}, 'team_t': {'score': 0, 'consecutive_round_losses': 1, 'timeouts_remaining': 1, 'matches_won_this_series': 0}, 'num_matches_to_win_series': 0}, 'round': {'phase': 'freezetime'}, 'player': {'match_stats': {'kills': 0, 'assists': 0, 'deaths': 0, 'mvps': 0, 'score': 0}}, 'previously': {'map': {'phase': 'warmup', 'team_ct': {'consecutive_round_losses': 0}, 'team_t': {'consecutive_round_losses': 0}}}}\n",
    ")\n",
    "f\"{req.status_code} - {req.text}\""
   ]
  },
  {
   "cell_type": "code",
   "execution_count": null,
   "metadata": {},
   "outputs": [
    {
     "data": {
      "text/plain": [
       "'200 - Successfully received data'"
      ]
     },
     "metadata": {},
     "output_type": "display_data"
    }
   ],
   "source": [
    "# Live, previously warmup\n",
    "req = requests.post(\n",
    "    url=\"http://127.0.0.1:80/receive_gsi\",\n",
    "    json={'provider': {'name': 'Counter-Strike: Global Offensive', 'appid': 730, 'version': 13967, 'steamid': '76561197991237347', 'timestamp': 1699290487}, 'map': {'mode': 'competitive', 'name': 'de_overpass', 'phase': 'live', 'round': 0, 'team_ct': {'score': 0, 'consecutive_round_losses': 1, 'timeouts_remaining': 1, 'matches_won_this_series': 0}, 'team_t': {'score': 0, 'consecutive_round_losses': 1, 'timeouts_remaining': 1, 'matches_won_this_series': 0}, 'num_matches_to_win_series': 0}, 'round': {'phase': 'freezetime'}, 'player': {'match_stats': {'kills': 0, 'assists': 0, 'deaths': 0, 'mvps': 0, 'score': 0}}, 'previously': {'map': {'phase': 'warmup', 'team_ct': {'consecutive_round_losses': 0}, 'team_t': {'consecutive_round_losses': 0}}}}\n",
    ")\n",
    "f\"{req.status_code} - {req.text}\""
   ]
  },
  {
   "cell_type": "code",
   "execution_count": 27,
   "metadata": {},
   "outputs": [
    {
     "data": {
      "text/plain": [
       "'200 - Successfully received data'"
      ]
     },
     "execution_count": 27,
     "metadata": {},
     "output_type": "execute_result"
    }
   ],
   "source": [
    "# Live, previously warmup\n",
    "req = requests.post(\n",
    "    url=\"http://127.0.0.1:80/receive_gsi\",\n",
    "    json={'provider': {'name': 'Counter-Strike: Global Offensive', 'appid': 730, 'version': 13967, 'steamid': '76561197991237347', 'timestamp': 1699290685}, 'map': {'mode': 'competitive', 'name': 'de_ancient', 'phase': 'live', 'round': 5, 'team_ct': {'score': 5, 'consecutive_round_losses': 0, 'timeouts_remaining': 1, 'matches_won_this_series': 0}, 'team_t': {'score': 0, 'consecutive_round_losses': 2, 'timeouts_remaining': 1, 'matches_won_this_series': 0}, 'num_matches_to_win_series': 0, 'round_wins': {'1': 'ct_win_elimination'}}, 'round': {'phase': 'live'}, 'player': {'match_stats': {'kills': 5, 'assists': 0, 'deaths': 0, 'mvps': 1, 'score': 10}}}\n",
    ")\n",
    "f\"{req.status_code} - {req.text}\""
   ]
  },
  {
   "cell_type": "code",
   "execution_count": null,
   "metadata": {},
   "outputs": [],
   "source": [
    "{'provider': {'name': 'Counter-Strike: Global Offensive', 'appid': 730, 'version': 13967, 'steamid': '76561197991237347', 'timestamp': 1699388101}, 'map': {'mode': 'competitive', 'name': 'de_vertigo', 'phase': 'live', 'round': 1, 'team_ct': {'score': 1, 'consecutive_round_losses': 0, 'timeouts_remaining': 1, 'matches_won_this_series': 0}, 'team_t': {'score': 0, 'consecutive_round_losses': 2, 'timeouts_remaining': 1, 'matches_won_this_series': 0}, 'num_matches_to_win_series': 0, 'round_wins': {'1': 'ct_win_defuse'}}, 'round': {'phase': 'over', 'win_team': 'CT', 'bomb': 'defused'}, 'player': {'steamid': '76561197991237347', 'name': 'Kandidat', 'observer_slot': 1, 'team': 'CT', 'activity': 'menu', 'match_stats': {'kills': 3, 'assists': 0, 'deaths': 0, 'mvps': 1, 'score': 8}}}"
   ]
  }
 ],
 "metadata": {
  "kernelspec": {
   "display_name": "Python 3",
   "language": "python",
   "name": "python3"
  },
  "language_info": {
   "codemirror_mode": {
    "name": "ipython",
    "version": 3
   },
   "file_extension": ".py",
   "mimetype": "text/x-python",
   "name": "python",
   "nbconvert_exporter": "python",
   "pygments_lexer": "ipython3",
   "version": "3.11.5"
  }
 },
 "nbformat": 4,
 "nbformat_minor": 2
}
